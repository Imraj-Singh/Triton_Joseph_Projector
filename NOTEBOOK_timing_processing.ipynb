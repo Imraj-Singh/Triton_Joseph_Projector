{
 "cells": [
  {
   "cell_type": "code",
   "execution_count": null,
   "metadata": {},
   "outputs": [],
   "source": [
    "# load the data that was previously saved\n",
    "def load_data(file_name):\n",
    "    try:\n",
    "        with open(file_name, \"r\") as f:\n",
    "            lines = f.readlines()\n",
    "            list_lors = []\n",
    "            list_slices = []\n",
    "            list_nlors = []\n",
    "            list_nvoxels = []\n",
    "            list_forward_timing = []\n",
    "            list_backward_timing_triton = []\n",
    "            list_mlem_timing_triton = []\n",
    "            for line in lines:\n",
    "                parts = line.split()\n",
    "                if len(parts) == 7:\n",
    "                    lors, slices, number_of_lors, number_of_voxels, forward_timing, backward_timing, mlem_timing = parts\n",
    "                    print(f\"Loaded data: LOR: {lors}, Slice: {slices}, Number of LORs: {number_of_lors}, Number of Voxels: {number_of_voxels}, Forward Timing: {forward_timing}, Backward Timing: {backward_timing}, MLEM Timing: {mlem_timing}\")\n",
    "                    list_lors.append(int(lors))\n",
    "                    list_slices.append(int(slices))\n",
    "                    list_nlors.append(int(number_of_lors))\n",
    "                    list_nvoxels.append(int(number_of_voxels))\n",
    "                    list_forward_timing.append(float(forward_timing))\n",
    "                    list_backward_timing_triton.append(float(backward_timing))\n",
    "                    list_mlem_timing_triton.append(float(mlem_timing))\n",
    "            print(\"Data loaded successfully.\")\n",
    "        return list_lors, list_slices, list_nlors, list_nvoxels, list_forward_timing, list_backward_timing_triton, list_mlem_timing_triton\n",
    "    except FileNotFoundError:\n",
    "        print(f\"File {file_name} not found.\")\n",
    "        return None\n",
    "    except Exception as e:\n",
    "        print(f\"An error occurred: {e}\")\n",
    "        return None\n",
    "\n",
    "lors_triton, slices_triton, nlors_triton, nvoxels_triton, forward_timing_triton, backward_timing_triton, mlem_timing_triton = load_data(\"TIMING_triton_joseph_proj.txt\")\n",
    "lors_pp, slices_pp, nlors_pp, nvoxels_pp, forward_timing_pp, backward_timing_pp, mlem_timing_pp = load_data(\"TIMING_parallel_proj.txt\")"
   ]
  },
  {
   "cell_type": "code",
   "execution_count": null,
   "metadata": {},
   "outputs": [],
   "source": [
    "from matplotlib import pyplot as plt\n",
    "\n",
    "nlors_nvoxels_pp = [nlors_pp[i] * nvoxels_pp[i] for i in range(len(nlors_pp))]\n",
    "nlors_nvoxels_triton = [nlors_triton[i] * nvoxels_triton[i] for i in range(len(nlors_triton))]\n",
    "\n",
    "# order pp and triton data by number of LORs * number of voxels\n",
    "nlors_nvoxels_pp, forward_timing_pp, backward_timing_pp, mlem_timing_pp = zip(*sorted(zip(nlors_nvoxels_pp, forward_timing_pp, backward_timing_pp, mlem_timing_pp)))\n",
    "nlors_nvoxels_triton, forward_timing_triton, backward_timing_triton, mlem_timing_triton = zip(*sorted(zip(nlors_nvoxels_triton, forward_timing_triton, backward_timing_triton, mlem_timing_triton)))\n",
    "\n",
    "def percentage_difference_between_first_second_lists(list1, list2):\n",
    "    return [(list2[i] - list1[i]) / list1[i] * 100 for i in range(len(list1))]\n",
    "\n",
    "diff_per_for = percentage_difference_between_first_second_lists(forward_timing_pp, forward_timing_triton)\n",
    "diff_per_back = percentage_difference_between_first_second_lists(backward_timing_pp, backward_timing_triton)\n",
    "diff_per_mlem = percentage_difference_between_first_second_lists(mlem_timing_pp, mlem_timing_triton)\n",
    "plt.figure(figsize=(8, 5))\n",
    "plt.plot(nlors_nvoxels_pp, diff_per_for, 'ro', label='Forward')\n",
    "plt.plot(nlors_nvoxels_triton, diff_per_back, 'bo', label='Backward')\n",
    "plt.plot(nlors_nvoxels_triton, diff_per_mlem, 'go', label='MLEM step')\n",
    "plt.axhline(0, color='black', linestyle='--', label='No Difference')\n",
    "plt.xlabel('Number of LORs by Number of Voxels')\n",
    "plt.ylabel('Timing Percentage Difference versus Parallel Proj (%)')\n",
    "plt.legend()\n",
    "plt.grid()\n",
    "plt.xscale('log')\n",
    "plt.savefig('timing_percentage_difference.png')"
   ]
  }
 ],
 "metadata": {
  "kernelspec": {
   "display_name": "base",
   "language": "python",
   "name": "python3"
  },
  "language_info": {
   "codemirror_mode": {
    "name": "ipython",
    "version": 3
   },
   "file_extension": ".py",
   "mimetype": "text/x-python",
   "name": "python",
   "nbconvert_exporter": "python",
   "pygments_lexer": "ipython3",
   "version": "3.11.11"
  }
 },
 "nbformat": 4,
 "nbformat_minor": 2
}
