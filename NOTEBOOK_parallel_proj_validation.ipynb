{
 "cells": [
  {
   "cell_type": "code",
   "execution_count": null,
   "metadata": {},
   "outputs": [],
   "source": [
    "import array_api_compat.torch as xp\n",
    "import torch\n",
    "import parallelproj\n",
    "from array_api_compat import to_device\n",
    "import array_api_compat.numpy as np\n",
    "import matplotlib.pyplot as plt\n",
    "import time\n",
    "\n",
    "dict_data = np.load(\"/home/user/triton/slices_8_lors_40.npy\", allow_pickle=True).item()\n",
    "\n",
    "xstart = xp.asarray(dict_data['xstart']).cuda()\n",
    "xend = xp.asarray(dict_data['xend']).cuda()\n",
    "img_origin = xp.asarray(dict_data['img_origin']).cuda()\n",
    "voxel_size = xp.asarray(dict_data['voxel_size']).cuda()\n",
    "img_shape = dict_data['img_shape']\n",
    "x_gt = xp.asarray(dict_data['x']).cuda()\n",
    "meas = xp.asarray(dict_data['meas']).cuda() + 100\n",
    "\n",
    "fwd = lambda x: parallelproj.joseph3d_fwd(xstart, xend, x, img_origin, voxel_size)\n",
    "\n",
    "back = lambda y: parallelproj.joseph3d_back(xstart, xend, img_shape, img_origin, voxel_size, y)\n",
    "\n",
    "\n",
    "xp.save(fwd(x_gt).cpu(), \"parallel_proj_forward.torch\")\n",
    "xp.save(back(xp.asarray(dict_data['meas']).cuda()).cpu(), \"parallel_proj_backward.torch\")"
   ]
  },
  {
   "cell_type": "code",
   "execution_count": null,
   "metadata": {},
   "outputs": [],
   "source": [
    "tmp_x = xp.ones_like(x_gt)\n",
    "tmp_y = xp.ones_like(meas)\n",
    "\n",
    "tmp_1 = (fwd(tmp_x)*tmp_y).sum()\n",
    "tmp_2 = (back(tmp_y)*tmp_x).sum()\n",
    "print(tmp_1, tmp_2)"
   ]
  }
 ],
 "metadata": {
  "kernelspec": {
   "display_name": "base",
   "language": "python",
   "name": "python3"
  },
  "language_info": {
   "codemirror_mode": {
    "name": "ipython",
    "version": 3
   },
   "file_extension": ".py",
   "mimetype": "text/x-python",
   "name": "python",
   "nbconvert_exporter": "python",
   "pygments_lexer": "ipython3",
   "version": "3.11.11"
  }
 },
 "nbformat": 4,
 "nbformat_minor": 2
}
