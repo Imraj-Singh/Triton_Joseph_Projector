{
 "cells": [
  {
   "cell_type": "code",
   "execution_count": null,
   "metadata": {},
   "outputs": [],
   "source": [
    "from triton_joseph_proj import *\n",
    "import numpy as np\n",
    "import matplotlib.pyplot as plt\n",
    "import time\n",
    "import array_api_compat.torch as xp\n",
    "\n",
    "dict_data = np.load(\"/home/user/triton/slices_8_lors_40.npy\", allow_pickle=True).item()\n",
    "\n",
    "xstart = xp.asarray(dict_data['xstart']).cuda()\n",
    "xend = xp.asarray(dict_data['xend']).cuda()\n",
    "img_origin = xp.asarray(dict_data['img_origin']).cuda()\n",
    "voxel_size = xp.asarray(dict_data['voxel_size']).cuda()\n",
    "img_shape = dict_data['img_shape']\n",
    "x_gt = xp.asarray(dict_data['x']).cuda()\n",
    "meas = xp.asarray(dict_data['meas']).cuda() + 100\n",
    "\n",
    "fwd = lambda x: joseph3d_fwd_vec(xstart.reshape(-1,3), xend.reshape(-1,3), x, img_origin, voxel_size, img_shape).reshape(meas.shape)\n",
    "\n",
    "back = lambda y: joseph3d_back_vec(xstart.reshape(-1,3), xend.reshape(-1,3), y.ravel(), img_origin, voxel_size, img_shape)\n",
    "\n",
    "tmp = fwd(x_gt)\n",
    "torch.cuda.synchronize(x_gt.device)\n",
    "start = time.time()\n",
    "for i in range(10):\n",
    "    tmp = fwd(x_gt)\n",
    "    torch.cuda.synchronize(x_gt.device)\n",
    "end_t = time.time()\n",
    "\n",
    "sens_img = back(xp.ones_like(meas))\n",
    "x = xp.ones_like(sens_img)\n",
    "torch.cuda.synchronize(x_gt.device)\n",
    "\n",
    "start = time.time()\n",
    "for i in range(10):\n",
    "    tmp = back(meas)\n",
    "    torch.cuda.synchronize(x_gt.device)\n",
    "end_t = time.time()\n",
    "\n",
    "start = time.time()\n",
    "for i in range(10000):\n",
    "    em_precond = x/sens_img\n",
    "    ratio = meas/(fwd(x)+100.)\n",
    "    bp_ratio = back(ratio)\n",
    "    x = em_precond*bp_ratio\n",
    "end_t = time.time()\n",
    "\n",
    "xp.save(x.cpu(), \"triton_joseph_proj_recon.torch\")\n"
   ]
  },
  {
   "cell_type": "code",
   "execution_count": 2,
   "metadata": {},
   "outputs": [
    {
     "data": {
      "application/vnd.jupyter.widget-view+json": {
       "model_id": "892040dd84824b9fb114991ae2719fe1",
       "version_major": 2,
       "version_minor": 0
      },
      "text/plain": [
       "interactive(children=(IntSlider(value=3, description='slice_idx', max=7), Output()), _dom_classes=('widget-int…"
      ]
     },
     "metadata": {},
     "output_type": "display_data"
    },
    {
     "data": {
      "text/plain": [
       "<function __main__.show_slices(slice_idx)>"
      ]
     },
     "execution_count": 2,
     "metadata": {},
     "output_type": "execute_result"
    }
   ],
   "source": [
    "import torch\n",
    "x_parallel_proj = torch.load(\"parallel_proj_recon.torch\")\n",
    "x = torch.load(\"triton_joseph_proj_recon.torch\")\n",
    "import matplotlib.pyplot as plt\n",
    "from ipywidgets import interact\n",
    "def show_slices(slice_idx):\n",
    "    plt.figure(figsize=(18, 6), dpi=80)\n",
    "    plt.subplot(1,3,1)\n",
    "    plt.imshow(x[:,slice_idx,:].cpu(), cmap='gray')\n",
    "    plt.colorbar()\n",
    "    plt.subplot(1,3,2)\n",
    "    plt.imshow(x_parallel_proj[:,slice_idx,:].cpu(), cmap='gray')\n",
    "    plt.colorbar()\n",
    "    plt.subplot(1,3,3)\n",
    "    plt.imshow((x[:,slice_idx,:].cpu()-x_parallel_proj[:,slice_idx,:].cpu()), cmap='gray')\n",
    "    plt.colorbar()\n",
    "    plt.show()\n",
    "    \n",
    "interact(show_slices, slice_idx=(0, x.shape[1]-1, 1))"
   ]
  },
  {
   "cell_type": "code",
   "execution_count": null,
   "metadata": {},
   "outputs": [],
   "source": [
    "x_parallel_proj = torch.load(\"parallel_proj_recon.torch\")\n",
    "x = torch.load(\"triton_joseph_proj_recon.torch\")\n",
    "import matplotlib.pyplot as plt\n",
    "plt.figure(figsize=(8, 3), dpi=80)\n",
    "slice_idx = x.shape[1]//2\n",
    "plt.subplot(1,3,1)\n",
    "plt.imshow(x[:,slice_idx,:].cpu(), cmap='gray')\n",
    "plt.title(\"Triton Joseph Proj\") \n",
    "plt.axis('off')\n",
    "plt.colorbar()\n",
    "plt.subplot(1,3,2)\n",
    "plt.imshow(x_parallel_proj[:,slice_idx,:].cpu(), cmap='gray')\n",
    "plt.title(\"Parallel Proj\")\n",
    "plt.axis('off')\n",
    "plt.colorbar()\n",
    "plt.subplot(1,3,3)\n",
    "plt.imshow((x[:,slice_idx,:].cpu()-x_parallel_proj[:,slice_idx,:].cpu()).abs(), cmap='gray')\n",
    "plt.title(\"Absolute Difference\")\n",
    "plt.axis('off')\n",
    "plt.colorbar()\n",
    "# make tight\n",
    "plt.tight_layout()\n",
    "plt.savefig(\"validation_10000_MLEM.png\", dpi=300)\n",
    "plt.show()"
   ]
  }
 ],
 "metadata": {
  "kernelspec": {
   "display_name": "base",
   "language": "python",
   "name": "python3"
  },
  "language_info": {
   "codemirror_mode": {
    "name": "ipython",
    "version": 3
   },
   "file_extension": ".py",
   "mimetype": "text/x-python",
   "name": "python",
   "nbconvert_exporter": "python",
   "pygments_lexer": "ipython3",
   "version": "3.11.11"
  }
 },
 "nbformat": 4,
 "nbformat_minor": 2
}
