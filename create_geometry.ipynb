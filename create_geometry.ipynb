{
 "cells": [
  {
   "cell_type": "markdown",
   "metadata": {},
   "source": [
    "Taken from Georg's parallelproj"
   ]
  },
  {
   "cell_type": "code",
   "execution_count": null,
   "metadata": {},
   "outputs": [],
   "source": [
    "import array_api_compat.cupy as xp\n",
    "\n",
    "import parallelproj\n",
    "from array_api_compat import to_device\n",
    "import array_api_compat.numpy as np\n",
    "import matplotlib.pyplot as plt\n",
    "\n",
    "if \"numpy\" in xp.__name__:\n",
    "    dev = \"cpu\"\n",
    "elif \"cupy\" in xp.__name__:\n",
    "    dev = xp.cuda.Device(0)\n",
    "elif \"torch\" in xp.__name__:\n",
    "    dev = \"cuda\"\n",
    "\n",
    "num_rings = 32\n",
    "scanner = parallelproj.RegularPolygonPETScannerGeometry(\n",
    "    xp,\n",
    "    dev,\n",
    "    radius=70.0,\n",
    "    num_sides=12,\n",
    "    num_lor_endpoints_per_side=30,\n",
    "    lor_spacing=1.2,\n",
    "    ring_positions=xp.linspace(-48, 48, num_rings),\n",
    "    symmetry_axis=1, \n",
    ")\n",
    "\n",
    "lor_desc = parallelproj.RegularPolygonPETLORDescriptor(\n",
    "    scanner,\n",
    "    radial_trim=10,\n",
    "    max_ring_difference=8,\n",
    "    sinogram_order=parallelproj.SinogramSpatialAxisOrder.RVP,\n",
    ")\n",
    "\n",
    "proj = parallelproj.RegularPolygonPETProjector(\n",
    "    lor_desc, img_shape=(128, 24, 128), voxel_size=(.75, 3.0, .75)\n",
    ")\n",
    "\n",
    "fig = plt.figure(figsize=(8, 8))\n",
    "ax1 = fig.add_subplot(111, projection=\"3d\")\n",
    "proj.show_geometry(ax1)\n",
    "fig.tight_layout()\n",
    "fig.show()\n"
   ]
  },
  {
   "cell_type": "code",
   "execution_count": null,
   "metadata": {},
   "outputs": [],
   "source": [
    "\n",
    "test = np.load('Brainweb.npz')\n",
    "vol = test['PET'][0, 19:109, 100:-100, 100:-100]\n",
    "vol = vol[:, 8:-8, 8:-8]\n",
    "vol = vol[28:52, :, :]\n",
    "vol = np.swapaxes(vol, 0, 1)\n",
    "\n",
    "import matplotlib.pyplot as plt\n",
    "from ipywidgets import interact\n",
    "def show_slices(slice_idx):\n",
    "    plt.imshow(vol[:,slice_idx,:], cmap='gray')\n",
    "    plt.colorbar()\n",
    "    plt.show()\n",
    "    \n",
    "interact(show_slices, slice_idx=(0, vol.shape[1]-1, 1))"
   ]
  },
  {
   "cell_type": "code",
   "execution_count": null,
   "metadata": {},
   "outputs": [],
   "source": [
    "xstart, xend = proj._lor_descriptor.get_lor_coordinates(views=proj._views)\n",
    "\n",
    "x = xp.array(vol)\n",
    "\n",
    "x_fwd = parallelproj.joseph3d_fwd(\n",
    "                xstart, xend, x, proj._img_origin, proj._voxel_size\n",
    "            )\n",
    "\n",
    "x_back = parallelproj.joseph3d_back(\n",
    "                xstart, xend, proj._img_shape, proj._img_origin, proj._voxel_size, x_fwd,\n",
    "            )\n",
    "\n",
    "dict_data = {}\n",
    "\n",
    "dict_data['xstart'] = xstart.get()\n",
    "dict_data['xend'] = xend.get()\n",
    "dict_data['img_origin'] = proj._img_origin.get()\n",
    "dict_data['voxel_size'] = proj._voxel_size.get()\n",
    "dict_data['img_shape'] = proj._img_shape\n",
    "dict_data['x'] = x.get()\n",
    "dict_data['meas'] = x_fwd.get() + 100.\n",
    "\n",
    "np.save(\"large_regular_polygon_geom.npy\", dict_data)\n",
    "\n",
    "import matplotlib.pyplot as plt\n",
    "from ipywidgets import interact\n",
    "def show_slices(slice_idx):\n",
    "    plt.imshow(x_back.get()[:,slice_idx,:], cmap='gray')\n",
    "    plt.colorbar()\n",
    "    plt.show()\n",
    "    \n",
    "interact(show_slices, slice_idx=(0, vol.shape[1]-1, 1))"
   ]
  }
 ],
 "metadata": {
  "kernelspec": {
   "display_name": "base",
   "language": "python",
   "name": "python3"
  },
  "language_info": {
   "codemirror_mode": {
    "name": "ipython",
    "version": 3
   },
   "file_extension": ".py",
   "mimetype": "text/x-python",
   "name": "python",
   "nbconvert_exporter": "python",
   "pygments_lexer": "ipython3",
   "version": "3.11.11"
  }
 },
 "nbformat": 4,
 "nbformat_minor": 2
}
